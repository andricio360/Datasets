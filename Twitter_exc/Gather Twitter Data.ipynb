{
 "cells": [
  {
   "cell_type": "code",
   "execution_count": 1,
   "id": "super-bundle",
   "metadata": {},
   "outputs": [],
   "source": [
    "import yaml\n"
   ]
  },
  {
   "cell_type": "code",
   "execution_count": 2,
   "id": "convinced-declaration",
   "metadata": {},
   "outputs": [
    {
     "name": "stdout",
     "output_type": "stream",
     "text": [
      "Writing config.yaml\n"
     ]
    }
   ],
   "source": [
    "%%writefile -a config.yaml\n",
    "search_tweets_api:\n",
    "  bearer_token: AAAAAAAAAAAAAAAAAAAAAIyXOAEAAAAAcCHBhI6s79ymKBqvuAhw7iAzNF8%3D4DdJhomz1xcWZuxryw1gKPWtStAbwdoMMnxIX3HnOUKToaDFoO\n"
   ]
  },
  {
   "cell_type": "code",
   "execution_count": 3,
   "id": "unusual-great",
   "metadata": {},
   "outputs": [],
   "source": [
    "import requests\n",
    "import pandas as pd\n",
    "import json\n",
    "import ast\n",
    "import yaml"
   ]
  },
  {
   "cell_type": "code",
   "execution_count": 4,
   "id": "bacterial-montana",
   "metadata": {},
   "outputs": [],
   "source": [
    "def create_twitter_url():\n",
    "    handle = \"IvanDuque\"\n",
    "    max_results = 100\n",
    "    mrf = \"max_results={}\".format(max_results)\n",
    "    q = \"query=from:{}\".format(handle)\n",
    "    url = \"https://api.twitter.com/2/tweets/search/recent?{}&{}\".format(\n",
    "        mrf, q\n",
    "    )\n",
    "    return url"
   ]
  },
  {
   "cell_type": "code",
   "execution_count": 5,
   "id": "exterior-jaguar",
   "metadata": {},
   "outputs": [],
   "source": [
    "def main():\n",
    "    url = create_twitter_url()\n",
    "\n",
    "\n",
    "if __name__ == \"__main__\":\n",
    "    main()"
   ]
  },
  {
   "cell_type": "code",
   "execution_count": 6,
   "id": "widespread-functionality",
   "metadata": {},
   "outputs": [],
   "source": [
    "def process_yaml():\n",
    "    with open(\"config.yaml\") as file:\n",
    "        return yaml.safe_load(file)"
   ]
  },
  {
   "cell_type": "code",
   "execution_count": 7,
   "id": "satellite-choice",
   "metadata": {},
   "outputs": [],
   "source": [
    "def main():\n",
    "    url = create_twitter_url()\n",
    "    data = process_yaml()"
   ]
  },
  {
   "cell_type": "code",
   "execution_count": 8,
   "id": "after-password",
   "metadata": {},
   "outputs": [],
   "source": [
    "def create_bearer_token(data):\n",
    "    return data[\"search_tweets_api\"][\"bearer_token\"]"
   ]
  },
  {
   "cell_type": "code",
   "execution_count": 9,
   "id": "documentary-criticism",
   "metadata": {},
   "outputs": [],
   "source": [
    "def main():\n",
    "    url = create_twitter_url()\n",
    "    data = process_yaml()\n",
    "    bearer_token = create_bearer_token(data)"
   ]
  },
  {
   "cell_type": "code",
   "execution_count": 10,
   "id": "mathematical-large",
   "metadata": {},
   "outputs": [],
   "source": [
    "def twitter_auth_and_connect(bearer_token, url):\n",
    "    headers = {\"Authorization\": \"Bearer {}\".format(bearer_token)}\n",
    "    response = requests.request(\"GET\", url, headers=headers)\n",
    "    return response.json()"
   ]
  },
  {
   "cell_type": "code",
   "execution_count": 11,
   "id": "through-question",
   "metadata": {},
   "outputs": [],
   "source": [
    "def main():\n",
    "    url = create_twitter_url()\n",
    "    data = process_yaml()\n",
    "    bearer_token = create_bearer_token(data)\n",
    "    res_json = twitter_auth_and_connect(bearer_token, url)\n",
    "\n"
   ]
  },
  {
   "cell_type": "code",
   "execution_count": null,
   "id": "tired-species",
   "metadata": {},
   "outputs": [],
   "source": [
    "def lang_data_shape(res_json):\n",
    "    data_only = res_json[\"data\"]\n",
    "    doc_start = '\"documents\": {}'.format(data_only)\n",
    "    str_json = \"{\" + doc_start + \"}\"\n",
    "    dump_doc = json.dumps(str_json)\n",
    "    doc = json.loads(dump_doc)\n",
    "    return ast.literal_eval(doc"
   ]
  }
 ],
 "metadata": {
  "kernelspec": {
   "display_name": "Python 3",
   "language": "python",
   "name": "python3"
  },
  "language_info": {
   "codemirror_mode": {
    "name": "ipython",
    "version": 3
   },
   "file_extension": ".py",
   "mimetype": "text/x-python",
   "name": "python",
   "nbconvert_exporter": "python",
   "pygments_lexer": "ipython3",
   "version": "3.7.10"
  }
 },
 "nbformat": 4,
 "nbformat_minor": 5
}
