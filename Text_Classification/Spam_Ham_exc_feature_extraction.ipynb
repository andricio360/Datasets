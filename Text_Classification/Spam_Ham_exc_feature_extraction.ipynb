{
 "cells": [
  {
   "cell_type": "code",
   "execution_count": 1,
   "id": "familiar-laundry",
   "metadata": {},
   "outputs": [],
   "source": [
    "import numpy as np\n",
    "import pandas as pd"
   ]
  },
  {
   "cell_type": "code",
   "execution_count": 2,
   "id": "united-rochester",
   "metadata": {},
   "outputs": [],
   "source": [
    "df = pd.read_csv('../TextFiles/smsspamcollection.tsv','\\t')"
   ]
  },
  {
   "cell_type": "code",
   "execution_count": 3,
   "id": "dated-blackberry",
   "metadata": {},
   "outputs": [
    {
     "data": {
      "text/html": [
       "<div>\n",
       "<style scoped>\n",
       "    .dataframe tbody tr th:only-of-type {\n",
       "        vertical-align: middle;\n",
       "    }\n",
       "\n",
       "    .dataframe tbody tr th {\n",
       "        vertical-align: top;\n",
       "    }\n",
       "\n",
       "    .dataframe thead th {\n",
       "        text-align: right;\n",
       "    }\n",
       "</style>\n",
       "<table border=\"1\" class=\"dataframe\">\n",
       "  <thead>\n",
       "    <tr style=\"text-align: right;\">\n",
       "      <th></th>\n",
       "      <th>label</th>\n",
       "      <th>message</th>\n",
       "      <th>length</th>\n",
       "      <th>punct</th>\n",
       "    </tr>\n",
       "  </thead>\n",
       "  <tbody>\n",
       "    <tr>\n",
       "      <th>0</th>\n",
       "      <td>ham</td>\n",
       "      <td>Go until jurong point, crazy.. Available only ...</td>\n",
       "      <td>111</td>\n",
       "      <td>9</td>\n",
       "    </tr>\n",
       "    <tr>\n",
       "      <th>1</th>\n",
       "      <td>ham</td>\n",
       "      <td>Ok lar... Joking wif u oni...</td>\n",
       "      <td>29</td>\n",
       "      <td>6</td>\n",
       "    </tr>\n",
       "    <tr>\n",
       "      <th>2</th>\n",
       "      <td>spam</td>\n",
       "      <td>Free entry in 2 a wkly comp to win FA Cup fina...</td>\n",
       "      <td>155</td>\n",
       "      <td>6</td>\n",
       "    </tr>\n",
       "    <tr>\n",
       "      <th>3</th>\n",
       "      <td>ham</td>\n",
       "      <td>U dun say so early hor... U c already then say...</td>\n",
       "      <td>49</td>\n",
       "      <td>6</td>\n",
       "    </tr>\n",
       "    <tr>\n",
       "      <th>4</th>\n",
       "      <td>ham</td>\n",
       "      <td>Nah I don't think he goes to usf, he lives aro...</td>\n",
       "      <td>61</td>\n",
       "      <td>2</td>\n",
       "    </tr>\n",
       "  </tbody>\n",
       "</table>\n",
       "</div>"
      ],
      "text/plain": [
       "  label                                            message  length  punct\n",
       "0   ham  Go until jurong point, crazy.. Available only ...     111      9\n",
       "1   ham                      Ok lar... Joking wif u oni...      29      6\n",
       "2  spam  Free entry in 2 a wkly comp to win FA Cup fina...     155      6\n",
       "3   ham  U dun say so early hor... U c already then say...      49      6\n",
       "4   ham  Nah I don't think he goes to usf, he lives aro...      61      2"
      ]
     },
     "execution_count": 3,
     "metadata": {},
     "output_type": "execute_result"
    }
   ],
   "source": [
    "df.head()"
   ]
  },
  {
   "cell_type": "code",
   "execution_count": 4,
   "id": "caroline-aspect",
   "metadata": {},
   "outputs": [
    {
     "data": {
      "text/plain": [
       "label      0\n",
       "message    0\n",
       "length     0\n",
       "punct      0\n",
       "dtype: int64"
      ]
     },
     "execution_count": 4,
     "metadata": {},
     "output_type": "execute_result"
    }
   ],
   "source": [
    "df.isnull().sum()"
   ]
  },
  {
   "cell_type": "code",
   "execution_count": 5,
   "id": "demonstrated-account",
   "metadata": {},
   "outputs": [
    {
     "data": {
      "text/plain": [
       "ham     4825\n",
       "spam     747\n",
       "Name: label, dtype: int64"
      ]
     },
     "execution_count": 5,
     "metadata": {},
     "output_type": "execute_result"
    }
   ],
   "source": [
    "df.label.value_counts()"
   ]
  },
  {
   "cell_type": "code",
   "execution_count": 6,
   "id": "animated-university",
   "metadata": {},
   "outputs": [],
   "source": [
    "from sklearn.model_selection import train_test_split\n"
   ]
  },
  {
   "cell_type": "code",
   "execution_count": 7,
   "id": "theoretical-thesis",
   "metadata": {},
   "outputs": [],
   "source": [
    "X = df.message"
   ]
  },
  {
   "cell_type": "code",
   "execution_count": 8,
   "id": "impaired-albuquerque",
   "metadata": {},
   "outputs": [],
   "source": [
    "y=df.label"
   ]
  },
  {
   "cell_type": "code",
   "execution_count": 9,
   "id": "afraid-sterling",
   "metadata": {},
   "outputs": [],
   "source": [
    "X_train, X_test, y_train, y_test = train_test_split(X, y, test_size=0.33, random_state=42)"
   ]
  },
  {
   "cell_type": "code",
   "execution_count": 10,
   "id": "concerned-inventory",
   "metadata": {},
   "outputs": [],
   "source": [
    "from sklearn.feature_extraction.text import CountVectorizer"
   ]
  },
  {
   "cell_type": "code",
   "execution_count": 11,
   "id": "third-wages",
   "metadata": {},
   "outputs": [],
   "source": [
    "cv = CountVectorizer()"
   ]
  },
  {
   "cell_type": "code",
   "execution_count": 15,
   "id": "decreased-mambo",
   "metadata": {},
   "outputs": [],
   "source": [
    "# Fit the vectorizer to the data (build a vocab, count the number of words...)\n",
    "#cv.fit(X_train)\n",
    "#X_train_counts = cv.transform(X_train)\n",
    "#Transform the original text message to a Vector\n",
    "\n",
    "X_train_counts = cv.fit_transform(X_train)"
   ]
  },
  {
   "cell_type": "code",
   "execution_count": 16,
   "id": "respected-bradford",
   "metadata": {},
   "outputs": [
    {
     "data": {
      "text/plain": [
       "<3733x7082 sparse matrix of type '<class 'numpy.int64'>'\n",
       "\twith 49992 stored elements in Compressed Sparse Row format>"
      ]
     },
     "execution_count": 16,
     "metadata": {},
     "output_type": "execute_result"
    }
   ],
   "source": [
    "X_train_counts"
   ]
  },
  {
   "cell_type": "code",
   "execution_count": 17,
   "id": "systematic-somewhere",
   "metadata": {},
   "outputs": [
    {
     "data": {
      "text/plain": [
       "(3733,)"
      ]
     },
     "execution_count": 17,
     "metadata": {},
     "output_type": "execute_result"
    }
   ],
   "source": [
    "X_train.shape"
   ]
  },
  {
   "cell_type": "code",
   "execution_count": 18,
   "id": "optimum-evans",
   "metadata": {},
   "outputs": [
    {
     "data": {
      "text/plain": [
       "(3733, 7082)"
      ]
     },
     "execution_count": 18,
     "metadata": {},
     "output_type": "execute_result"
    }
   ],
   "source": [
    "X_train_counts.shape"
   ]
  },
  {
   "cell_type": "code",
   "execution_count": 19,
   "id": "breathing-chosen",
   "metadata": {},
   "outputs": [],
   "source": [
    "from sklearn.feature_extraction.text import TfidfTransformer"
   ]
  },
  {
   "cell_type": "code",
   "execution_count": 20,
   "id": "raised-credits",
   "metadata": {},
   "outputs": [],
   "source": [
    "tfidf_transf = TfidfTransformer()"
   ]
  },
  {
   "cell_type": "code",
   "execution_count": 21,
   "id": "adequate-elimination",
   "metadata": {},
   "outputs": [],
   "source": [
    "X_train_tfidf = tfidf_transf.fit_transform(X_train_counts)"
   ]
  },
  {
   "cell_type": "code",
   "execution_count": 22,
   "id": "eastern-ideal",
   "metadata": {},
   "outputs": [
    {
     "data": {
      "text/plain": [
       "(3733, 7082)"
      ]
     },
     "execution_count": 22,
     "metadata": {},
     "output_type": "execute_result"
    }
   ],
   "source": [
    "X_train_tfidf.shape"
   ]
  },
  {
   "cell_type": "code",
   "execution_count": 23,
   "id": "exceptional-inspiration",
   "metadata": {},
   "outputs": [],
   "source": [
    "from sklearn.feature_extraction.text import TfidfVectorizer"
   ]
  },
  {
   "cell_type": "code",
   "execution_count": 24,
   "id": "acceptable-concord",
   "metadata": {},
   "outputs": [],
   "source": [
    "tfidf_vectorizer = TfidfVectorizer()"
   ]
  },
  {
   "cell_type": "code",
   "execution_count": 26,
   "id": "intelligent-devices",
   "metadata": {},
   "outputs": [],
   "source": [
    "X_train_tfidf_vect = tfidf_vectorizer.fit_transform(X_train)"
   ]
  },
  {
   "cell_type": "code",
   "execution_count": 27,
   "id": "first-triumph",
   "metadata": {},
   "outputs": [],
   "source": [
    "from sklearn.svm import LinearSVC"
   ]
  },
  {
   "cell_type": "code",
   "execution_count": 28,
   "id": "stuffed-quilt",
   "metadata": {},
   "outputs": [],
   "source": [
    "clf = LinearSVC()"
   ]
  },
  {
   "cell_type": "code",
   "execution_count": 29,
   "id": "patient-presence",
   "metadata": {},
   "outputs": [
    {
     "data": {
      "text/plain": [
       "LinearSVC(C=1.0, class_weight=None, dual=True, fit_intercept=True,\n",
       "     intercept_scaling=1, loss='squared_hinge', max_iter=1000,\n",
       "     multi_class='ovr', penalty='l2', random_state=None, tol=0.0001,\n",
       "     verbose=0)"
      ]
     },
     "execution_count": 29,
     "metadata": {},
     "output_type": "execute_result"
    }
   ],
   "source": [
    "clf.fit(X_train_tfidf_vect,y_train)"
   ]
  },
  {
   "cell_type": "code",
   "execution_count": 31,
   "id": "loaded-matthew",
   "metadata": {},
   "outputs": [],
   "source": [
    "from sklearn.pipeline import Pipeline"
   ]
  },
  {
   "cell_type": "code",
   "execution_count": 32,
   "id": "orange-arlington",
   "metadata": {},
   "outputs": [],
   "source": [
    "text_clf = Pipeline([('tfidf',TfidfVectorizer()),('clf',LinearSVC())])"
   ]
  },
  {
   "cell_type": "code",
   "execution_count": 33,
   "id": "joined-planner",
   "metadata": {},
   "outputs": [
    {
     "data": {
      "text/plain": [
       "Pipeline(memory=None,\n",
       "     steps=[('tfidf', TfidfVectorizer(analyzer='word', binary=False, decode_error='strict',\n",
       "        dtype=<class 'numpy.float64'>, encoding='utf-8', input='content',\n",
       "        lowercase=True, max_df=1.0, max_features=None, min_df=1,\n",
       "        ngram_range=(1, 1), norm='l2', preprocessor=None, smooth_idf=True,...ax_iter=1000,\n",
       "     multi_class='ovr', penalty='l2', random_state=None, tol=0.0001,\n",
       "     verbose=0))])"
      ]
     },
     "execution_count": 33,
     "metadata": {},
     "output_type": "execute_result"
    }
   ],
   "source": [
    "text_clf.fit(X_train,y_train)"
   ]
  },
  {
   "cell_type": "code",
   "execution_count": 34,
   "id": "framed-indicator",
   "metadata": {},
   "outputs": [],
   "source": [
    "predictions = text_clf.predict(X_test)"
   ]
  },
  {
   "cell_type": "code",
   "execution_count": 35,
   "id": "acute-highway",
   "metadata": {},
   "outputs": [
    {
     "data": {
      "text/plain": [
       "3245    Squeeeeeze!! This is christmas hug.. If u lik ...\n",
       "944     And also I've sorta blown him off a couple tim...\n",
       "1044    Mmm thats better now i got a roast down me! i...\n",
       "2484        Mm have some kanji dont eat anything heavy ok\n",
       "812     So there's a ring that comes with the guys cos...\n",
       "2973    Sary just need Tim in the bollox &it hurt him ...\n",
       "2991    Love isn't a decision, it's a feeling. If we c...\n",
       "2942    My supervisor find 4 me one lor i thk his stud...\n",
       "230                    Dear good morning now only i am up\n",
       "1181                           I'm in chennai velachery:)\n",
       "1912    Lol grr my mom is taking forever with my presc...\n",
       "1992    No other Valentines huh? The proof is on your ...\n",
       "5435                    I'm wif him now buying tix lar...\n",
       "4805    Er, hello, things didn‘t quite go to plan – is...\n",
       "401     FREE RINGTONE text FIRST to 87131 for a poly o...\n",
       "1859                     Sir, i am waiting for your call.\n",
       "1344    Crazy ar he's married. Ü like gd looking guys ...\n",
       "2952                     Hey now am free you can call me.\n",
       "501     Fighting with the world is easy, u either win ...\n",
       "3337                         Then u go back urself lor...\n",
       "1945    Yeah, I'll leave in a couple minutes &amp; let...\n",
       "3142                       Customer place i will call you\n",
       "2422    Err... Cud do. I'm going to  at 8pm. I haven't...\n",
       "381     I guess that's why you re worried. You must kn...\n",
       "5567    This is the 2nd time we have tried 2 contact u...\n",
       "4937                             K..k.:)congratulation ..\n",
       "79      Its not the same here. Still looking for a job...\n",
       "5240     Gud gud..k, chikku tke care.. sleep well gud nyt\n",
       "2554                   Ü give me some time to walk there.\n",
       "5345                                     Wat ü doing now?\n",
       "                              ...                        \n",
       "1744                     I love to wine and dine my lady!\n",
       "3383    Well, I meant as opposed to my drunken night o...\n",
       "3792    Twinks, bears, scallies, skins and jocks are c...\n",
       "1258          Am also doing in cbe only. But have to pay.\n",
       "4319                 S...i will take mokka players only:)\n",
       "1451                            Msg me when rajini comes.\n",
       "2399                             YO YO YO BYATCH WHASSUP?\n",
       "1116    So lets make it saturday or monday as per conv...\n",
       "1541                 K come to nordstrom when you're done\n",
       "3618    Sorry sent blank msg again. Yup but trying 2 d...\n",
       "4252    Omg Joanna is freaking me out. She's looked th...\n",
       "1954    Then just eat a shit and wait for ur monkey fa...\n",
       "5329                        Sir, waiting for your letter.\n",
       "3045    Let me know how it changes in the next 6hrs. I...\n",
       "4041                               I'm at home n ready...\n",
       "3098                Yo, you at jp and hungry like a mofo?\n",
       "2372    Hmm, too many of them unfortunately... Pics ob...\n",
       "445     HEY HEY WERETHE MONKEESPEOPLE SAY WE MONKEYARO...\n",
       "2778    Kind of. Took it to garage. Centre part of exh...\n",
       "4619    Nvm... I'm going to wear my sport shoes anyway...\n",
       "4165                  Its ok, called mom instead have fun\n",
       "1413    Wen ur lovable bcums angry wid u, dnt take it ...\n",
       "452         Thanks for this hope you had a good day today\n",
       "5375    I cant pick the phone right now. Pls send a me...\n",
       "2885    Cbe is really good nowadays:)lot of shop and s...\n",
       "4944    Check mail.i have mailed varma and kept copy t...\n",
       "3313    I know you are serving. I mean what are you do...\n",
       "3652         Want to send me a virtual hug?... I need one\n",
       "14                    I HAVE A DATE ON SUNDAY WITH WILL!!\n",
       "4758    hey, looks like I was wrong and one of the kap...\n",
       "Name: message, Length: 1839, dtype: object"
      ]
     },
     "execution_count": 35,
     "metadata": {},
     "output_type": "execute_result"
    }
   ],
   "source": [
    "X_test"
   ]
  },
  {
   "cell_type": "code",
   "execution_count": 36,
   "id": "worth-actress",
   "metadata": {},
   "outputs": [],
   "source": [
    "from sklearn.metrics import confusion_matrix,classification_report"
   ]
  },
  {
   "cell_type": "code",
   "execution_count": 37,
   "id": "regional-terror",
   "metadata": {},
   "outputs": [
    {
     "name": "stdout",
     "output_type": "stream",
     "text": [
      "[[1586    7]\n",
      " [  12  234]]\n"
     ]
    }
   ],
   "source": [
    "print(confusion_matrix(y_test,predictions))"
   ]
  },
  {
   "cell_type": "code",
   "execution_count": 38,
   "id": "quiet-worship",
   "metadata": {},
   "outputs": [
    {
     "name": "stdout",
     "output_type": "stream",
     "text": [
      "              precision    recall  f1-score   support\n",
      "\n",
      "         ham       0.99      1.00      0.99      1593\n",
      "        spam       0.97      0.95      0.96       246\n",
      "\n",
      "   micro avg       0.99      0.99      0.99      1839\n",
      "   macro avg       0.98      0.97      0.98      1839\n",
      "weighted avg       0.99      0.99      0.99      1839\n",
      "\n"
     ]
    }
   ],
   "source": [
    "print(classification_report(y_test,predictions))"
   ]
  },
  {
   "cell_type": "code",
   "execution_count": 39,
   "id": "buried-macedonia",
   "metadata": {},
   "outputs": [],
   "source": [
    "from sklearn import metrics"
   ]
  },
  {
   "cell_type": "code",
   "execution_count": 40,
   "id": "capable-cheese",
   "metadata": {},
   "outputs": [
    {
     "data": {
      "text/plain": [
       "0.989668297988037"
      ]
     },
     "execution_count": 40,
     "metadata": {},
     "output_type": "execute_result"
    }
   ],
   "source": [
    "metrics.accuracy_score(y_test,predictions)"
   ]
  },
  {
   "cell_type": "code",
   "execution_count": 42,
   "id": "ideal-hands",
   "metadata": {},
   "outputs": [
    {
     "data": {
      "text/plain": [
       "array(['ham'], dtype=object)"
      ]
     },
     "execution_count": 42,
     "metadata": {},
     "output_type": "execute_result"
    }
   ],
   "source": [
    "text_clf.predict([\"Him how are you today\"])"
   ]
  },
  {
   "cell_type": "code",
   "execution_count": 43,
   "id": "three-specialist",
   "metadata": {},
   "outputs": [
    {
     "data": {
      "text/plain": [
       "array(['ham'], dtype=object)"
      ]
     },
     "execution_count": 43,
     "metadata": {},
     "output_type": "execute_result"
    }
   ],
   "source": [
    "text_clf.predict([\"totally free for you\"])"
   ]
  },
  {
   "cell_type": "code",
   "execution_count": 44,
   "id": "tested-growing",
   "metadata": {},
   "outputs": [
    {
     "data": {
      "text/plain": [
       "array(['ham'], dtype=object)"
      ]
     },
     "execution_count": 44,
     "metadata": {},
     "output_type": "execute_result"
    }
   ],
   "source": [
    "text_clf.predict([\"click inside for promotions\"])"
   ]
  },
  {
   "cell_type": "code",
   "execution_count": 48,
   "id": "loved-assurance",
   "metadata": {},
   "outputs": [
    {
     "data": {
      "text/plain": [
       "array(['spam'], dtype=object)"
      ]
     },
     "execution_count": 48,
     "metadata": {},
     "output_type": "execute_result"
    }
   ],
   "source": [
    "text_clf.predict([\"TEXT FREE TO THIS NUMBER \"])"
   ]
  },
  {
   "cell_type": "code",
   "execution_count": null,
   "id": "administrative-content",
   "metadata": {},
   "outputs": [],
   "source": []
  }
 ],
 "metadata": {
  "kernelspec": {
   "display_name": "Python 3",
   "language": "python",
   "name": "python3"
  },
  "language_info": {
   "codemirror_mode": {
    "name": "ipython",
    "version": 3
   },
   "file_extension": ".py",
   "mimetype": "text/x-python",
   "name": "python",
   "nbconvert_exporter": "python",
   "pygments_lexer": "ipython3",
   "version": "3.7.10"
  }
 },
 "nbformat": 4,
 "nbformat_minor": 5
}
